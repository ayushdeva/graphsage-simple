{
 "cells": [
  {
   "cell_type": "code",
   "execution_count": 1,
   "metadata": {},
   "outputs": [],
   "source": [
    "%load_ext autoreload\n",
    "%autoreload 2\n",
    "%matplotlib inline"
   ]
  },
  {
   "cell_type": "code",
   "execution_count": 2,
   "metadata": {},
   "outputs": [],
   "source": [
    "# !pip install torch"
   ]
  },
  {
   "cell_type": "code",
   "execution_count": null,
   "metadata": {},
   "outputs": [],
   "source": []
  },
  {
   "cell_type": "code",
   "execution_count": 3,
   "metadata": {},
   "outputs": [
    {
     "name": "stdout",
     "output_type": "stream",
     "text": [
      "PyTorch Version:  1.7.1\n"
     ]
    }
   ],
   "source": [
    "from __future__ import print_function\n",
    "from __future__ import division\n",
    "import torch\n",
    "import sys\n",
    "import torch.nn as nn\n",
    "import torch.optim as optim\n",
    "import numpy as np\n",
    "import pandas as pd\n",
    "import matplotlib.pyplot as plt\n",
    "import time\n",
    "import os\n",
    "import copy\n",
    "from torch import autograd\n",
    "from torch.autograd import Variable\n",
    "import pickle as pkl\n",
    "print(\"PyTorch Version: \",torch.__version__)\n",
    "import tqdm\n",
    "from tqdm import tqdm\n",
    "import pickle\n",
    "\n",
    "from model_qa import *"
   ]
  },
  {
   "cell_type": "code",
   "execution_count": 4,
   "metadata": {},
   "outputs": [],
   "source": [
    "data_file = \"../train_task_1_2_sample.csv\"\n",
    "meta_data_file = \"../Data/data/metadata/answer_metadata_task_1_2.csv\"\n",
    "log_file = \"../logs/task_2_log.txt\"\n",
    "batch_size = 32\n",
    "lr = 0.01\n",
    "num_epochs = 100\n",
    "num_feats = 256 #size of embedding of input layer\n",
    "if_cuda = torch.cuda.is_available()\n",
    "# if_cuda = False"
   ]
  },
  {
   "cell_type": "code",
   "execution_count": 5,
   "metadata": {},
   "outputs": [],
   "source": [
    "df = pd.read_csv(data_file)"
   ]
  },
  {
   "cell_type": "code",
   "execution_count": 6,
   "metadata": {},
   "outputs": [
    {
     "name": "stdout",
     "output_type": "stream",
     "text": [
      "1461210\n"
     ]
    }
   ],
   "source": [
    "print(len(df))"
   ]
  },
  {
   "cell_type": "code",
   "execution_count": 7,
   "metadata": {},
   "outputs": [
    {
     "data": {
      "text/plain": [
       "False"
      ]
     },
     "execution_count": 7,
     "metadata": {},
     "output_type": "execute_result"
    }
   ],
   "source": [
    "torch.cuda.is_available()"
   ]
  },
  {
   "cell_type": "code",
   "execution_count": 8,
   "metadata": {},
   "outputs": [
    {
     "name": "stdout",
     "output_type": "stream",
     "text": [
      "In Sequencify total mappings =  19342 24342\n"
     ]
    }
   ],
   "source": [
    "model = CorrectnessPrediction(df,num_feats,lr,batch_size,if_cuda=if_cuda, num_epochs=num_epochs)"
   ]
  },
  {
   "cell_type": "code",
   "execution_count": 9,
   "metadata": {},
   "outputs": [
    {
     "name": "stdout",
     "output_type": "stream",
     "text": [
      "0 Completed\n",
      "10000 Completed\n",
      "20000 Completed\n",
      "30000 Completed\n",
      "40000 Completed\n",
      "50000 Completed\n",
      "60000 Completed\n",
      "70000 Completed\n",
      "80000 Completed\n",
      "90000 Completed\n",
      "100000 Completed\n",
      "110000 Completed\n",
      "120000 Completed\n",
      "130000 Completed\n",
      "140000 Completed\n",
      "150000 Completed\n",
      "160000 Completed\n",
      "170000 Completed\n",
      "180000 Completed\n",
      "190000 Completed\n",
      "200000 Completed\n",
      "210000 Completed\n",
      "220000 Completed\n",
      "230000 Completed\n",
      "240000 Completed\n",
      "250000 Completed\n",
      "260000 Completed\n",
      "270000 Completed\n",
      "280000 Completed\n",
      "290000 Completed\n",
      "300000 Completed\n",
      "310000 Completed\n",
      "320000 Completed\n",
      "330000 Completed\n",
      "340000 Completed\n",
      "350000 Completed\n",
      "360000 Completed\n",
      "370000 Completed\n",
      "380000 Completed\n",
      "390000 Completed\n",
      "400000 Completed\n",
      "410000 Completed\n",
      "420000 Completed\n",
      "430000 Completed\n",
      "440000 Completed\n",
      "450000 Completed\n",
      "460000 Completed\n",
      "470000 Completed\n",
      "480000 Completed\n",
      "490000 Completed\n",
      "500000 Completed\n",
      "510000 Completed\n",
      "520000 Completed\n",
      "530000 Completed\n",
      "540000 Completed\n",
      "550000 Completed\n",
      "560000 Completed\n",
      "570000 Completed\n",
      "580000 Completed\n",
      "590000 Completed\n",
      "600000 Completed\n",
      "610000 Completed\n",
      "620000 Completed\n",
      "630000 Completed\n",
      "640000 Completed\n",
      "650000 Completed\n",
      "660000 Completed\n",
      "670000 Completed\n",
      "680000 Completed\n",
      "690000 Completed\n",
      "700000 Completed\n",
      "710000 Completed\n",
      "720000 Completed\n",
      "730000 Completed\n",
      "740000 Completed\n",
      "750000 Completed\n",
      "760000 Completed\n",
      "770000 Completed\n",
      "780000 Completed\n",
      "790000 Completed\n",
      "800000 Completed\n",
      "810000 Completed\n",
      "820000 Completed\n",
      "830000 Completed\n",
      "840000 Completed\n",
      "850000 Completed\n",
      "860000 Completed\n",
      "870000 Completed\n",
      "880000 Completed\n",
      "890000 Completed\n",
      "900000 Completed\n",
      "910000 Completed\n",
      "920000 Completed\n",
      "930000 Completed\n",
      "940000 Completed\n",
      "950000 Completed\n",
      "960000 Completed\n",
      "970000 Completed\n",
      "980000 Completed\n",
      "990000 Completed\n",
      "1000000 Completed\n",
      "1010000 Completed\n",
      "1020000 Completed\n",
      "1030000 Completed\n",
      "1040000 Completed\n",
      "1050000 Completed\n",
      "1060000 Completed\n",
      "1070000 Completed\n",
      "1080000 Completed\n",
      "1090000 Completed\n",
      "1100000 Completed\n",
      "1110000 Completed\n",
      "1120000 Completed\n",
      "1130000 Completed\n",
      "1140000 Completed\n",
      "1150000 Completed\n",
      "1160000 Completed\n",
      "1170000 Completed\n",
      "1180000 Completed\n",
      "1190000 Completed\n",
      "1200000 Completed\n",
      "1210000 Completed\n",
      "1220000 Completed\n",
      "1230000 Completed\n",
      "1240000 Completed\n",
      "1250000 Completed\n",
      "1260000 Completed\n",
      "1270000 Completed\n",
      "1280000 Completed\n",
      "1290000 Completed\n",
      "1300000 Completed\n",
      "1310000 Completed\n",
      "1320000 Completed\n",
      "1330000 Completed\n",
      "1340000 Completed\n",
      "1350000 Completed\n",
      "1360000 Completed\n",
      "1370000 Completed\n",
      "1380000 Completed\n",
      "1390000 Completed\n",
      "1400000 Completed\n",
      "1410000 Completed\n",
      "1420000 Completed\n",
      "1430000 Completed\n",
      "1440000 Completed\n",
      "1450000 Completed\n",
      "1460000 Completed\n"
     ]
    }
   ],
   "source": [
    "adj_lists = model.load_data()"
   ]
  },
  {
   "cell_type": "code",
   "execution_count": 10,
   "metadata": {},
   "outputs": [
    {
     "data": {
      "text/plain": [
       "24343"
      ]
     },
     "execution_count": 10,
     "metadata": {},
     "output_type": "execute_result"
    }
   ],
   "source": [
    "a = (adj_lists.keys())\n",
    "len(list(a))"
   ]
  },
  {
   "cell_type": "code",
   "execution_count": 11,
   "metadata": {},
   "outputs": [],
   "source": [
    "cos = nn.CosineSimilarity(dim=0, eps=1e-6)"
   ]
  },
  {
   "cell_type": "code",
   "execution_count": 12,
   "metadata": {},
   "outputs": [],
   "source": [
    "v1 = torch.randn((128,32))\n",
    "v2 = torch.randn((128,32))"
   ]
  },
  {
   "cell_type": "code",
   "execution_count": 13,
   "metadata": {},
   "outputs": [
    {
     "data": {
      "text/plain": [
       "torch.Size([32])"
      ]
     },
     "execution_count": 13,
     "metadata": {},
     "output_type": "execute_result"
    }
   ],
   "source": [
    "cos(v1,v2).shape"
   ]
  },
  {
   "cell_type": "code",
   "execution_count": null,
   "metadata": {},
   "outputs": [
    {
     "name": "stderr",
     "output_type": "stream",
     "text": [
      "/home/users/ayush/graphsage-simple/graphsage/encoders.py:35: UserWarning: nn.init.xavier_uniform is now deprecated in favor of nn.init.xavier_uniform_.\n",
      "  init.xavier_uniform(self.weight)\n",
      "  0%|          | 0/36531 [00:00<?, ?it/s]"
     ]
    },
    {
     "name": "stdout",
     "output_type": "stream",
     "text": [
      "Features weight initialized\n",
      "Agg 1 Initialized\n",
      "Encoder 1 Initialized\n",
      "Agg 2 Initialized\n",
      "Encoder 2 Initialized\n",
      "Model is Initialized\n",
      "Model Weights : \n",
      "Parameter containing:\n",
      "tensor([[ 0.0949,  0.0031,  0.1230,  ..., -0.1225, -0.0886, -0.1147],\n",
      "        [-0.0286, -0.0499,  0.0918,  ...,  0.0146,  0.0458,  0.0221],\n",
      "        [-0.0978, -0.0964,  0.0371,  ..., -0.0085,  0.0360,  0.0281],\n",
      "        ...,\n",
      "        [ 0.0746,  0.1113, -0.0520,  ...,  0.1043, -0.0345,  0.0858],\n",
      "        [-0.0697,  0.0931,  0.1137,  ..., -0.0891, -0.0188,  0.0821],\n",
      "        [ 0.1158,  0.0089,  0.0336,  ..., -0.1089, -0.0123, -0.1043]],\n",
      "       requires_grad=True)\n",
      "Parameter containing:\n",
      "tensor([[-0.1344,  0.1000,  0.1721,  ..., -0.0630, -0.0947, -0.1119],\n",
      "        [-0.1024, -0.0128,  0.1160,  ...,  0.0990,  0.1146,  0.1690],\n",
      "        [ 0.0949, -0.0366, -0.1530,  ...,  0.1707,  0.0777, -0.0387],\n",
      "        ...,\n",
      "        [ 0.0093, -0.0856, -0.1514,  ...,  0.0754,  0.1610, -0.1000],\n",
      "        [ 0.1665,  0.0670, -0.0026,  ..., -0.1482, -0.1589, -0.0668],\n",
      "        [ 0.1648,  0.0921,  0.1029,  ...,  0.1005,  0.1352, -0.0759]],\n",
      "       requires_grad=True)\n",
      "End\n",
      "Dataloader Class Called\n",
      "Dataloaded\n"
     ]
    },
    {
     "name": "stderr",
     "output_type": "stream",
     "text": [
      "  3%|▎         | 1007/36531 [00:19<10:41, 55.36it/s, loss=tensor(0.0078), suffix=[[11989, 20363], [0, 0]]]"
     ]
    },
    {
     "name": "stdout",
     "output_type": "stream",
     "text": [
      "[[11835, 20165], [0, 0]]\n"
     ]
    },
    {
     "name": "stderr",
     "output_type": "stream",
     "text": [
      "  5%|▌         | 2007/36531 [00:39<12:34, 45.73it/s, loss=tensor(0.0078), suffix=[[23950, 40274], [0, 0]]]"
     ]
    },
    {
     "name": "stdout",
     "output_type": "stream",
     "text": [
      "[[23860, 40140], [0, 0]]\n"
     ]
    },
    {
     "name": "stderr",
     "output_type": "stream",
     "text": [
      "  8%|▊         | 3004/36531 [01:01<15:09, 36.88it/s, loss=tensor(0.0078), suffix=[[36000, 60224], [0, 0]]]"
     ]
    },
    {
     "name": "stdout",
     "output_type": "stream",
     "text": [
      "[[35925, 60075], [0, 0]]\n"
     ]
    },
    {
     "name": "stderr",
     "output_type": "stream",
     "text": [
      " 11%|█         | 4003/36531 [01:24<12:20, 43.93it/s, loss=tensor(0.0078), suffix=[[47912, 80280], [0, 0]]]"
     ]
    },
    {
     "name": "stdout",
     "output_type": "stream",
     "text": [
      "[[47842, 80158], [0, 0]]\n"
     ]
    },
    {
     "name": "stderr",
     "output_type": "stream",
     "text": [
      " 14%|█▎        | 5007/36531 [01:47<09:22, 56.06it/s, loss=tensor(0.0078), suffix=[[59896, 100456], [0, 0]]]"
     ]
    },
    {
     "name": "stdout",
     "output_type": "stream",
     "text": [
      "[[59770, 100230], [0, 0]]\n"
     ]
    },
    {
     "name": "stderr",
     "output_type": "stream",
     "text": [
      " 16%|█▋        | 6006/36531 [02:07<11:59, 42.44it/s, loss=tensor(0.0078), suffix=[[71917, 120499], [0, 0]]]"
     ]
    },
    {
     "name": "stdout",
     "output_type": "stream",
     "text": [
      "[[71766, 120234], [0, 0]]\n"
     ]
    },
    {
     "name": "stderr",
     "output_type": "stream",
     "text": [
      " 19%|█▉        | 7005/36531 [02:32<09:11, 53.59it/s, loss=tensor(0.0078), suffix=[[83890, 140430], [0, 0]]]"
     ]
    },
    {
     "name": "stdout",
     "output_type": "stream",
     "text": [
      "[[83787, 140213], [0, 0]]\n"
     ]
    },
    {
     "name": "stderr",
     "output_type": "stream",
     "text": [
      " 22%|██▏       | 8009/36531 [02:54<09:06, 52.17it/s, loss=tensor(0.0078), suffix=[[95975, 160377], [0, 0]]]"
     ]
    },
    {
     "name": "stdout",
     "output_type": "stream",
     "text": [
      "[[95845, 160155], [0, 0]]\n"
     ]
    },
    {
     "name": "stderr",
     "output_type": "stream",
     "text": [
      " 25%|██▍       | 9006/36531 [03:13<09:20, 49.13it/s, loss=tensor(0.0078), suffix=[[107966, 180354], [0, 0]]]"
     ]
    },
    {
     "name": "stdout",
     "output_type": "stream",
     "text": [
      "[[107842, 180158], [0, 0]]\n"
     ]
    },
    {
     "name": "stderr",
     "output_type": "stream",
     "text": [
      " 27%|██▋       | 10008/36531 [03:32<09:13, 47.92it/s, loss=tensor(0.0078), suffix=[[119902, 200386], [0, 0]]]"
     ]
    },
    {
     "name": "stdout",
     "output_type": "stream",
     "text": [
      "[[119786, 200214], [0, 0]]\n"
     ]
    },
    {
     "name": "stderr",
     "output_type": "stream",
     "text": [
      " 29%|██▊       | 10461/36531 [03:43<07:41, 56.49it/s, loss=tensor(0.0078), suffix=[[125401, 209415], [0, 0]]]"
     ]
    }
   ],
   "source": [
    "val_losses, model_weights = model.run_model()"
   ]
  },
  {
   "cell_type": "code",
   "execution_count": null,
   "metadata": {},
   "outputs": [],
   "source": [
    "unique_node_list = [1,2,3,4,5]"
   ]
  },
  {
   "cell_type": "code",
   "execution_count": 21,
   "metadata": {},
   "outputs": [],
   "source": [
    "def foo(a,b):\n",
    "    c = a+b\n",
    "    return 1"
   ]
  },
  {
   "cell_type": "code",
   "execution_count": null,
   "metadata": {},
   "outputs": [],
   "source": [
    "x = torch.LongTensor(unique_node_list)"
   ]
  },
  {
   "cell_type": "code",
   "execution_count": null,
   "metadata": {},
   "outputs": [],
   "source": [
    "y = x.cuda()"
   ]
  },
  {
   "cell_type": "code",
   "execution_count": null,
   "metadata": {},
   "outputs": [],
   "source": [
    "y.is_cuda"
   ]
  },
  {
   "cell_type": "code",
   "execution_count": null,
   "metadata": {},
   "outputs": [],
   "source": []
  }
 ],
 "metadata": {
  "kernelspec": {
   "display_name": "Python 3",
   "language": "python",
   "name": "python3"
  },
  "language_info": {
   "codemirror_mode": {
    "name": "ipython",
    "version": 3
   },
   "file_extension": ".py",
   "mimetype": "text/x-python",
   "name": "python",
   "nbconvert_exporter": "python",
   "pygments_lexer": "ipython3",
   "version": "3.8.8"
  }
 },
 "nbformat": 4,
 "nbformat_minor": 4
}
