{
 "cells": [
  {
   "cell_type": "code",
   "execution_count": 260,
   "metadata": {},
   "outputs": [
    {
     "name": "stdout",
     "output_type": "stream",
     "text": [
      "The autoreload extension is already loaded. To reload it, use:\n",
      "  %reload_ext autoreload\n"
     ]
    }
   ],
   "source": [
    "%load_ext autoreload\n",
    "%autoreload 2\n",
    "%matplotlib inline"
   ]
  },
  {
   "cell_type": "code",
   "execution_count": 288,
   "metadata": {},
   "outputs": [
    {
     "name": "stdout",
     "output_type": "stream",
     "text": [
      "PyTorch Version:  1.5.1\n"
     ]
    }
   ],
   "source": [
    "from __future__ import print_function\n",
    "from __future__ import division\n",
    "import torch\n",
    "import sys\n",
    "import torch.nn as nn\n",
    "import torch.optim as optim\n",
    "import numpy as np\n",
    "import pandas as pd\n",
    "import matplotlib.pyplot as plt\n",
    "import time\n",
    "import os\n",
    "import copy\n",
    "from torch import autograd\n",
    "from torch.autograd import Variable\n",
    "import pickle as pkl\n",
    "print(\"PyTorch Version: \",torch.__version__)\n",
    "import tqdm\n",
    "from tqdm import tqdm\n",
    "import pickle\n",
    "\n",
    "from model_qa import *"
   ]
  },
  {
   "cell_type": "code",
   "execution_count": 289,
   "metadata": {},
   "outputs": [],
   "source": [
    "data_file = \"../../Data/data/train_data/train_task_1_2_sample.csv\"\n",
    "meta_data_file = \"../Data/data/metadata/answer_metadata_task_1_2.csv\"\n",
    "log_file = \"../logs/task_2_log.txt\"\n",
    "batch_size = 32\n",
    "lr = 0.01\n",
    "num_epochs = 100\n",
    "num_feats = 256 #size of embedding of input layer\n",
    "if_cuda = torch.cuda.is_available()"
   ]
  },
  {
   "cell_type": "code",
   "execution_count": 290,
   "metadata": {},
   "outputs": [],
   "source": [
    "df = pd.read_csv(data_file)"
   ]
  },
  {
   "cell_type": "code",
   "execution_count": 291,
   "metadata": {},
   "outputs": [
    {
     "name": "stdout",
     "output_type": "stream",
     "text": [
      "1461210\n"
     ]
    }
   ],
   "source": [
    "print(len(df))"
   ]
  },
  {
   "cell_type": "code",
   "execution_count": null,
   "metadata": {},
   "outputs": [],
   "source": []
  },
  {
   "cell_type": "code",
   "execution_count": 306,
   "metadata": {},
   "outputs": [
    {
     "name": "stdout",
     "output_type": "stream",
     "text": [
      "In Sequencify total mappings =  19342 24342\n"
     ]
    }
   ],
   "source": [
    "model = CorrectnessPrediction(df,num_feats,lr,batch_size,if_cuda=if_cuda,adj_list=adj_lists, num_epochs=num_epochs)"
   ]
  },
  {
   "cell_type": "code",
   "execution_count": 307,
   "metadata": {},
   "outputs": [],
   "source": [
    "adj_lists = model.load_data()"
   ]
  },
  {
   "cell_type": "code",
   "execution_count": 308,
   "metadata": {},
   "outputs": [
    {
     "data": {
      "text/plain": [
       "24343"
      ]
     },
     "execution_count": 308,
     "metadata": {},
     "output_type": "execute_result"
    }
   ],
   "source": [
    "a = (adj_lists.keys())\n",
    "len(list(a))"
   ]
  },
  {
   "cell_type": "code",
   "execution_count": 309,
   "metadata": {},
   "outputs": [],
   "source": [
    "cos = nn.CosineSimilarity(dim=0, eps=1e-6)"
   ]
  },
  {
   "cell_type": "code",
   "execution_count": 310,
   "metadata": {},
   "outputs": [],
   "source": [
    "v1 = torch.randn((128,32))\n",
    "v2 = torch.randn((128,32))"
   ]
  },
  {
   "cell_type": "code",
   "execution_count": 311,
   "metadata": {},
   "outputs": [
    {
     "data": {
      "text/plain": [
       "torch.Size([32])"
      ]
     },
     "execution_count": 311,
     "metadata": {},
     "output_type": "execute_result"
    }
   ],
   "source": [
    "cos(v1,v2).shape"
   ]
  },
  {
   "cell_type": "code",
   "execution_count": null,
   "metadata": {},
   "outputs": [
    {
     "name": "stderr",
     "output_type": "stream",
     "text": [
      "  0%|          | 1/36531 [00:00<1:11:28,  8.52it/s, loss=tensor(0.0111), suffix=[[0, 0], [46, 82]]]"
     ]
    },
    {
     "name": "stdout",
     "output_type": "stream",
     "text": [
      "Features weight initialized\n",
      "Agg 1 Initialized\n",
      "Encoder 1 Initialized\n",
      "Agg 2 Initialized\n",
      "Encoder 2 Initialized\n",
      "Model is Initialized\n",
      "Model Weights : \n",
      "Parameter containing:\n",
      "tensor([[ 0.0413, -0.1214, -0.0082,  ...,  0.0966, -0.0957,  0.0669],\n",
      "        [ 0.0497, -0.0897,  0.1236,  ..., -0.0063,  0.0735,  0.0115],\n",
      "        [-0.0623,  0.0135, -0.0338,  ..., -0.0931, -0.1119, -0.0493],\n",
      "        ...,\n",
      "        [-0.0746, -0.1212, -0.0786,  ..., -0.1142,  0.0609, -0.0923],\n",
      "        [-0.0933, -0.1192, -0.0522,  ..., -0.0294, -0.0587,  0.0226],\n",
      "        [-0.0239,  0.0989,  0.0269,  ..., -0.0780,  0.0156, -0.0650]],\n",
      "       requires_grad=True)\n",
      "Parameter containing:\n",
      "tensor([[ 0.1632, -0.0723,  0.0616,  ..., -0.0046, -0.0359, -0.1193],\n",
      "        [-0.1757,  0.1540,  0.1372,  ...,  0.0681,  0.0551, -0.0340],\n",
      "        [-0.1582, -0.0718,  0.0284,  ..., -0.0424, -0.0591,  0.1038],\n",
      "        ...,\n",
      "        [ 0.0406,  0.1252, -0.0892,  ..., -0.0285, -0.0924,  0.1404],\n",
      "        [ 0.1394,  0.0879,  0.0379,  ...,  0.0983,  0.1288,  0.0713],\n",
      "        [ 0.0250, -0.1042, -0.1113,  ..., -0.0178, -0.0734,  0.0470]],\n",
      "       requires_grad=True)\n",
      "End\n",
      "Dataloader Class Called\n",
      "Dataloaded\n"
     ]
    },
    {
     "name": "stderr",
     "output_type": "stream",
     "text": [
      "  3%|▎         | 1006/36531 [00:18<11:16, 52.52it/s, loss=tensor(0.0102), suffix=[[241, 408], [11860, 19811]]]"
     ]
    },
    {
     "name": "stdout",
     "output_type": "stream",
     "text": [
      "[[241, 408], [11744, 19607]]\n"
     ]
    },
    {
     "name": "stderr",
     "output_type": "stream",
     "text": [
      "  5%|▌         | 2009/36531 [00:37<10:41, 53.81it/s, loss=tensor(0.0106), suffix=[[1082, 1738], [23091, 38441]]]"
     ]
    },
    {
     "name": "stdout",
     "output_type": "stream",
     "text": [
      "[[939, 1529], [23091, 38441]]\n"
     ]
    },
    {
     "name": "stderr",
     "output_type": "stream",
     "text": [
      "  8%|▊         | 3006/36531 [00:55<12:22, 45.13it/s, loss=tensor(0.0097), suffix=[[13032, 21692], [23091, 38441]]]"
     ]
    },
    {
     "name": "stdout",
     "output_type": "stream",
     "text": [
      "[[12937, 21531], [23091, 38441]]\n"
     ]
    },
    {
     "name": "stderr",
     "output_type": "stream",
     "text": [
      " 11%|█         | 4009/36531 [01:12<10:17, 52.63it/s, loss=tensor(0.0092), suffix=[[24938, 41850], [23091, 38441]]]"
     ]
    },
    {
     "name": "stdout",
     "output_type": "stream",
     "text": [
      "[[24816, 41652], [23091, 38441]]\n"
     ]
    },
    {
     "name": "stderr",
     "output_type": "stream",
     "text": [
      " 14%|█▎        | 5010/36531 [01:32<10:08, 51.80it/s, loss=tensor(0.0089), suffix=[[37140, 61648], [23091, 38441]]]"
     ]
    },
    {
     "name": "stdout",
     "output_type": "stream",
     "text": [
      "[[37027, 61441], [23091, 38441]]\n"
     ]
    },
    {
     "name": "stderr",
     "output_type": "stream",
     "text": [
      " 16%|█▋        | 6009/36531 [01:52<09:53, 51.39it/s, loss=tensor(0.0088), suffix=[[48951, 81836], [23091, 38442]]]"
     ]
    },
    {
     "name": "stdout",
     "output_type": "stream",
     "text": [
      "[[48826, 81641], [23091, 38442]]\n"
     ]
    },
    {
     "name": "stderr",
     "output_type": "stream",
     "text": [
      " 19%|█▉        | 7007/36531 [02:12<09:39, 50.98it/s, loss=tensor(0.0086), suffix=[[61006, 101781], [23091, 38442]]]"
     ]
    },
    {
     "name": "stdout",
     "output_type": "stream",
     "text": [
      "[[60895, 101572], [23091, 38442]]\n"
     ]
    },
    {
     "name": "stderr",
     "output_type": "stream",
     "text": [
      " 22%|██▏       | 8013/36531 [02:29<07:07, 66.68it/s, loss=tensor(0.0085), suffix=[[72797, 122086], [23091, 38442]]]"
     ]
    },
    {
     "name": "stdout",
     "output_type": "stream",
     "text": [
      "[[72628, 121839], [23091, 38442]]\n"
     ]
    },
    {
     "name": "stderr",
     "output_type": "stream",
     "text": [
      " 25%|██▍       | 9007/36531 [02:44<07:32, 60.81it/s, loss=tensor(0.0084), suffix=[[84725, 142094], [23091, 38442]]]"
     ]
    },
    {
     "name": "stdout",
     "output_type": "stream",
     "text": [
      "[[84579, 141888], [23091, 38442]]\n"
     ]
    },
    {
     "name": "stderr",
     "output_type": "stream",
     "text": [
      " 27%|██▋       | 10010/36531 [03:01<07:35, 58.23it/s, loss=tensor(0.0084), suffix=[[96755, 162064], [23091, 38442]]]"
     ]
    },
    {
     "name": "stdout",
     "output_type": "stream",
     "text": [
      "[[96617, 161850], [23091, 38442]]\n"
     ]
    },
    {
     "name": "stderr",
     "output_type": "stream",
     "text": [
      " 30%|███       | 11008/36531 [03:21<09:02, 47.09it/s, loss=tensor(0.0083), suffix=[[108748, 182006], [23091, 38443]]]"
     ]
    },
    {
     "name": "stdout",
     "output_type": "stream",
     "text": [
      "[[108656, 181810], [23091, 38443]]\n"
     ]
    },
    {
     "name": "stderr",
     "output_type": "stream",
     "text": [
      " 33%|███▎      | 12007/36531 [03:42<08:37, 47.41it/s, loss=tensor(0.0083), suffix=[[120809, 201945], [23091, 38443]]]"
     ]
    },
    {
     "name": "stdout",
     "output_type": "stream",
     "text": [
      "[[120698, 201768], [23091, 38443]]\n"
     ]
    },
    {
     "name": "stderr",
     "output_type": "stream",
     "text": [
      " 36%|███▌      | 13009/36531 [04:02<08:00, 49.00it/s, loss=tensor(0.0082), suffix=[[132775, 221979], [23091, 38443]]]"
     ]
    },
    {
     "name": "stdout",
     "output_type": "stream",
     "text": [
      "[[132664, 221802], [23091, 38443]]\n"
     ]
    },
    {
     "name": "stderr",
     "output_type": "stream",
     "text": [
      " 38%|███▊      | 14005/36531 [04:22<07:55, 47.40it/s, loss=tensor(0.0082), suffix=[[144795, 241959], [23091, 38443]]]"
     ]
    },
    {
     "name": "stdout",
     "output_type": "stream",
     "text": [
      "[[144689, 241777], [23091, 38443]]\n"
     ]
    },
    {
     "name": "stderr",
     "output_type": "stream",
     "text": [
      " 41%|████      | 15008/36531 [04:44<08:21, 42.92it/s, loss=tensor(0.0082), suffix=[[156730, 261992], [23091, 38443]]]"
     ]
    },
    {
     "name": "stdout",
     "output_type": "stream",
     "text": [
      "[[156634, 261832], [23091, 38443]]\n"
     ]
    },
    {
     "name": "stderr",
     "output_type": "stream",
     "text": [
      " 44%|████▍     | 16008/36531 [05:06<07:20, 46.62it/s, loss=tensor(0.0082), suffix=[[168759, 281995], [23091, 38443]]]"
     ]
    },
    {
     "name": "stdout",
     "output_type": "stream",
     "text": [
      "[[168660, 281806], [23091, 38443]]\n"
     ]
    },
    {
     "name": "stderr",
     "output_type": "stream",
     "text": [
      " 47%|████▋     | 17009/36531 [05:28<06:27, 50.37it/s, loss=tensor(0.0081), suffix=[[180788, 301998], [23091, 38443]]]"
     ]
    },
    {
     "name": "stdout",
     "output_type": "stream",
     "text": [
      "[[180679, 301787], [23091, 38443]]\n"
     ]
    },
    {
     "name": "stderr",
     "output_type": "stream",
     "text": [
      " 49%|████▉     | 18009/36531 [05:47<05:35, 55.14it/s, loss=tensor(0.0081), suffix=[[192727, 322059], [23091, 38443]]]"
     ]
    },
    {
     "name": "stdout",
     "output_type": "stream",
     "text": [
      "[[192608, 321858], [23091, 38443]]\n"
     ]
    },
    {
     "name": "stderr",
     "output_type": "stream",
     "text": [
      " 52%|█████▏    | 19011/36531 [06:05<05:07, 57.07it/s, loss=tensor(0.0081), suffix=[[204629, 342189], [23091, 38443]]]"
     ]
    },
    {
     "name": "stdout",
     "output_type": "stream",
     "text": [
      "[[204492, 341974], [23091, 38443]]\n"
     ]
    },
    {
     "name": "stderr",
     "output_type": "stream",
     "text": [
      " 55%|█████▍    | 20010/36531 [06:22<04:47, 57.52it/s, loss=tensor(0.0081), suffix=[[216580, 362238], [23091, 38443]]]"
     ]
    },
    {
     "name": "stdout",
     "output_type": "stream",
     "text": [
      "[[216463, 362003], [23091, 38443]]\n"
     ]
    },
    {
     "name": "stderr",
     "output_type": "stream",
     "text": [
      " 58%|█████▊    | 21007/36531 [06:40<04:44, 54.56it/s, loss=tensor(0.0081), suffix=[[228483, 382303], [23091, 38443]]]"
     ]
    },
    {
     "name": "stdout",
     "output_type": "stream",
     "text": [
      "[[228368, 382098], [23091, 38443]]\n"
     ]
    },
    {
     "name": "stderr",
     "output_type": "stream",
     "text": [
      " 60%|██████    | 22004/36531 [07:02<05:26, 44.51it/s, loss=tensor(0.0081), suffix=[[240443, 402310], [23091, 38444]]]"
     ]
    },
    {
     "name": "stdout",
     "output_type": "stream",
     "text": [
      "[[240340, 402125], [23091, 38444]]\n"
     ]
    },
    {
     "name": "stderr",
     "output_type": "stream",
     "text": [
      " 63%|██████▎   | 22977/36531 [07:23<05:07, 44.01it/s, loss=tensor(0.0081), suffix=[[251907, 421821], [23091, 38445]]]"
     ]
    }
   ],
   "source": [
    "model.run_model()"
   ]
  },
  {
   "cell_type": "code",
   "execution_count": null,
   "metadata": {},
   "outputs": [],
   "source": []
  },
  {
   "cell_type": "code",
   "execution_count": null,
   "metadata": {},
   "outputs": [],
   "source": []
  }
 ],
 "metadata": {
  "kernelspec": {
   "display_name": "Python 3",
   "language": "python",
   "name": "python3"
  },
  "language_info": {
   "codemirror_mode": {
    "name": "ipython",
    "version": 3
   },
   "file_extension": ".py",
   "mimetype": "text/x-python",
   "name": "python",
   "nbconvert_exporter": "python",
   "pygments_lexer": "ipython3",
   "version": "3.7.6"
  }
 },
 "nbformat": 4,
 "nbformat_minor": 4
}
